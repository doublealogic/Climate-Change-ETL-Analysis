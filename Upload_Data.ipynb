{
 "cells": [
  {
   "cell_type": "code",
   "execution_count": 1,
   "metadata": {},
   "outputs": [],
   "source": [
    "import csv\n",
    "import json\n",
    "import pandas as pd\n",
    "import sys, getopt, pprint\n",
    "from pymongo import MongoClient\n",
    "import zipfile"
   ]
  },
  {
   "cell_type": "code",
   "execution_count": 2,
   "metadata": {},
   "outputs": [],
   "source": [
    "files =['US_Temp_1995_2020.csv', 'US_Temp_City_List.csv']\n",
    "file_structures = [\n",
    "    [\"TempReading\",\"Region\",\"Country\",\"State\",\"City\",\"Month\",\"Day\",\"Year\",\"AvgTemperature\"],\n",
    "    [\"TempReading\",\"State\",\"City\"]\n",
    "]\n",
    "segment_names =['US_Temp_1995_2020', 'US_Temp_City_List']\n",
    "encoding =['UTF-8', 'UTF-8']\n",
    "\n",
    "for num in range(2):\n",
    "    filepath = f'Resources/{files[num]}'\n",
    "    csvfile = open(filepath, 'r', encoding=encoding[num])\n",
    "    reader = csv.DictReader(csvfile)\n",
    "    mongo_client=MongoClient()\n",
    "    db=mongo_client.ClimateData\n",
    "    if segment_names[num] == 'US_Temp_1995_2020':\n",
    "        db.US_Temp_1995_2020.drop()\n",
    "        for each in reader:\n",
    "            row={}\n",
    "            for field in file_structures[num]:\n",
    "                row[field]=each[field]\n",
    "            db.US_Temp_1995_2020.insert_one(row)\n",
    "    elif segment_names[num] == 'US_Temp_City_List':\n",
    "        db.US_Temp_City_List.drop()\n",
    "        for each in reader:\n",
    "            row={}\n",
    "            for field in file_structures[num]:\n",
    "                row[field]=each[field]\n",
    "            db.US_Temp_City_List.insert_one(row)\n",
    "    else:\n",
    "        print(\"Error in uploading csvs to database.\")"
   ]
  },
  {
   "cell_type": "code",
   "execution_count": 3,
   "metadata": {},
   "outputs": [
    {
     "data": {
      "text/plain": [
       "<pymongo.results.InsertManyResult at 0x24a32830b48>"
      ]
     },
     "execution_count": 3,
     "metadata": {},
     "output_type": "execute_result"
    }
   ],
   "source": [
    "second_file_df_names = ['file1','file2', 'file3', 'file4']\n",
    "zipfiles = ['US_EPA_1995_2020_first', 'US_EPA_1995_2020_second', 'US_EPA_1995_2020_third', 'US_EPA_1995_2020_fourth']\n",
    "Second_file_group = ['US_EPA_1995_2020_first','US_EPA_1995_2020_second','US_EPA_1995_2020_third','US_EPA_1995_2020_fourth']\n",
    "for num in range(4):\n",
    "    filepath = f'Resources/{zipfiles[num]}.zip'\n",
    "    file_name = f'{Second_file_group[num]}.csv'\n",
    "    zf = zipfile.ZipFile(filepath) \n",
    "    exec('{} = pd.read_csv(zf.open(file_name))'.format(second_file_df_names[num]))\n",
    "final_Test = pd.concat([file1, file2, file3, file4], axis=0)\n",
    "mongo_client=MongoClient()\n",
    "db=mongo_client.ClimateData\n",
    "db.US_EPA.drop()\n",
    "db.US_EPA.insert_many(final_Test.to_dict('records'))"
   ]
  },
  {
   "cell_type": "code",
   "execution_count": null,
   "metadata": {},
   "outputs": [],
   "source": []
  },
  {
   "cell_type": "code",
   "execution_count": null,
   "metadata": {},
   "outputs": [],
   "source": []
  }
 ],
 "metadata": {
  "kernelspec": {
   "display_name": "Python [conda env:PythonData]",
   "language": "python",
   "name": "conda-env-PythonData-py"
  },
  "language_info": {
   "codemirror_mode": {
    "name": "ipython",
    "version": 3
   },
   "file_extension": ".py",
   "mimetype": "text/x-python",
   "name": "python",
   "nbconvert_exporter": "python",
   "pygments_lexer": "ipython3",
   "version": "3.6.10"
  }
 },
 "nbformat": 4,
 "nbformat_minor": 4
}
